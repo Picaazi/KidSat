{
 "cells": [
  {
   "cell_type": "code",
   "execution_count": 1,
   "id": "0128e044",
   "metadata": {},
   "outputs": [],
   "source": [
    "import pandas\n",
    "df = pandas.read_csv('processed_data/dhs_processed.csv')\n"
   ]
  },
  {
   "cell_type": "code",
   "execution_count": 7,
   "id": "dafd6f60",
   "metadata": {},
   "outputs": [
    {
     "name": "stdout",
     "output_type": "stream",
     "text": [
      "Number of rows: 24214\n",
      "Number of columns: 159\n"
     ]
    }
   ],
   "source": [
    "import numpy\n",
    "print(\"Number of rows:\", len(df))\n",
    "print(\"Number of columns:\", len(df.columns))\n",
    "df = df[sorted(df.columns)]\n",
    "pandas.set_option('display.max_columns', None)\n",
    "# for i in df[predict_target].max():\n",
    "#     print(i)"
   ]
  },
  {
   "cell_type": "code",
   "execution_count": 8,
   "id": "9b82828c",
   "metadata": {},
   "outputs": [],
   "source": [
    "# for col in df.columns:\n",
    "#     if df[col].max():\n",
    "#         print(df[col].min())\n",
    "#         print(col)"
   ]
  },
  {
   "cell_type": "code",
   "execution_count": 9,
   "id": "057c3d73",
   "metadata": {},
   "outputs": [
    {
     "name": "stdout",
     "output_type": "stream",
     "text": [
      "CENTROID_ID\n",
      "COUNTRY\n",
      "LATNUM\n",
      "LONGNUM\n",
      "SURVEY_NAME\n",
      "YEAR\n",
      "age\n",
      "b19\n",
      "chweight\n",
      "cluster\n",
      "dep_education_mod\n",
      "dep_education_sev\n",
      "dep_health_mod\n",
      "dep_health_sev\n",
      "dep_housing_mod\n",
      "dep_housing_sev\n",
      "dep_nutrition_mod\n",
      "dep_nutrition_sev\n",
      "dep_sanitation_mod\n",
      "dep_sanitation_sev\n",
      "dep_water_mod\n",
      "dep_water_sev\n",
      "deprived_mod\n",
      "deprived_sev\n",
      "education_15o_moddep\n",
      "education_15o_sevdep\n",
      "education_b15_moddep\n",
      "education_b15_sevdep\n",
      "h10_0\n",
      "h10_1\n",
      "h31_0\n",
      "h31_2\n",
      "h3_0\n",
      "h3_1\n",
      "h3_2\n",
      "h3_3\n",
      "h5_0\n",
      "h5_1\n",
      "h5_2\n",
      "h5_3\n",
      "h7_0\n",
      "h7_1\n",
      "h7_2\n",
      "h7_3\n",
      "h9_0\n",
      "h9_1\n",
      "h9_2\n",
      "h9_3\n",
      "h9_8\n",
      "h9_9\n",
      "hc70\n",
      "health_ari_moddep\n",
      "health_ari_sevdep\n",
      "health_con_moddep\n",
      "health_con_sevdep\n",
      "health_dpt1\n",
      "health_dpt2\n",
      "health_dpt3\n",
      "health_measles\n",
      "health_vac_moddep\n",
      "health_vac_sevdep\n",
      "hhweight\n",
      "hv001\n",
      "hv002\n",
      "hv005\n",
      "hv007\n",
      "hv009\n",
      "hv024\n",
      "hv104\n",
      "hv105\n",
      "hv109_0\n",
      "hv109_1\n",
      "hv109_2\n",
      "hv109_3\n",
      "hv109_4\n",
      "hv109_5\n",
      "hv111\n",
      "hv113\n",
      "hv121_0\n",
      "hv121_1\n",
      "hv121_2\n",
      "hv122\n",
      "hv201_11\n",
      "hv201_12\n",
      "hv201_13\n",
      "hv201_14\n",
      "hv201_21\n",
      "hv201_22\n",
      "hv201_23\n",
      "hv201_24\n",
      "hv201_25\n",
      "hv201_31\n",
      "hv201_32\n",
      "hv201_33\n",
      "hv201_34\n",
      "hv201_35\n",
      "hv201_36\n",
      "hv201_41\n",
      "hv201_42\n",
      "hv201_43\n",
      "hv201_44\n",
      "hv201_45\n",
      "hv201_46\n",
      "hv201_51\n",
      "hv201_61\n",
      "hv201_62\n",
      "hv201_63\n",
      "hv201_71\n",
      "hv204\n",
      "hv205_11\n",
      "hv205_12\n",
      "hv205_13\n",
      "hv205_14\n",
      "hv205_15\n",
      "hv205_16\n",
      "hv205_17\n",
      "hv205_18\n",
      "hv205_19\n",
      "hv205_21\n",
      "hv205_22\n",
      "hv205_23\n",
      "hv205_24\n",
      "hv205_25\n",
      "hv205_26\n",
      "hv205_27\n",
      "hv205_28\n",
      "hv205_29\n",
      "hv205_31\n",
      "hv205_41\n",
      "hv205_42\n",
      "hv205_43\n",
      "hv216\n",
      "hv225\n",
      "hv270\n",
      "hv271\n",
      "nutrition_haz\n",
      "orphaned\n",
      "region\n",
      "sex\n",
      "sumpoor_mod\n",
      "sumpoor_sev\n",
      "v005\n",
      "v312_0\n",
      "v312_1\n",
      "v312_10\n",
      "v312_11\n",
      "v312_13\n",
      "v312_14\n",
      "v312_16\n",
      "v312_17\n",
      "v312_18\n",
      "v312_2\n",
      "v312_3\n",
      "v312_5\n",
      "v312_6\n",
      "v312_8\n",
      "v312_9\n",
      "wealth\n",
      "wealthscore\n"
     ]
    }
   ],
   "source": [
    "for i in sorted(df.columns):\n",
    "    print(i)"
   ]
  },
  {
   "cell_type": "code",
   "execution_count": 10,
   "id": "49af07ab",
   "metadata": {},
   "outputs": [
    {
     "data": {
      "text/plain": [
       "159"
      ]
     },
     "execution_count": 10,
     "metadata": {},
     "output_type": "execute_result"
    }
   ],
   "source": [
    "df_test = pandas.read_csv('processed_data/test_fold_1.csv')\n",
    "len(df_test.columns)"
   ]
  },
  {
   "cell_type": "code",
   "execution_count": 11,
   "id": "9633c79d",
   "metadata": {},
   "outputs": [],
   "source": [
    "import re\n",
    "predict_target = ['h10', 'h3', 'h31', 'h5', 'h7', 'h9', \n",
    "                'hc70', 'hv109', 'hv121', 'hv106', 'hv201', 'hv204', \n",
    "                'hv205', 'hv216', 'hv225', 'hv271', 'v312']\n",
    "\n",
    "filtered_predict_target = []\n",
    "for col in predict_target:\n",
    "    filtered_predict_target.extend(\n",
    "        [c for c in df.columns if c == col or re.match(f\"^{col}_[^a-zA-Z]\", c)]\n",
    "    )\n",
    "# Drop rows with NaN values in the filtered subset of columns\n",
    "predict_target = sorted(filtered_predict_target)\n"
   ]
  },
  {
   "cell_type": "code",
   "execution_count": 12,
   "id": "5e841934",
   "metadata": {},
   "outputs": [
    {
     "data": {
      "text/plain": [
       "['h10_0',\n",
       " 'h10_1',\n",
       " 'h31_0',\n",
       " 'h31_2',\n",
       " 'h3_0',\n",
       " 'h3_1',\n",
       " 'h3_2',\n",
       " 'h3_3',\n",
       " 'h5_0',\n",
       " 'h5_1',\n",
       " 'h5_2',\n",
       " 'h5_3',\n",
       " 'h7_0',\n",
       " 'h7_1',\n",
       " 'h7_2',\n",
       " 'h7_3',\n",
       " 'h9_0',\n",
       " 'h9_1',\n",
       " 'h9_2',\n",
       " 'h9_3',\n",
       " 'h9_8',\n",
       " 'h9_9',\n",
       " 'hc70',\n",
       " 'hv109_0',\n",
       " 'hv109_1',\n",
       " 'hv109_2',\n",
       " 'hv109_3',\n",
       " 'hv109_4',\n",
       " 'hv109_5',\n",
       " 'hv121_0',\n",
       " 'hv121_1',\n",
       " 'hv121_2',\n",
       " 'hv201_11',\n",
       " 'hv201_12',\n",
       " 'hv201_13',\n",
       " 'hv201_14',\n",
       " 'hv201_21',\n",
       " 'hv201_22',\n",
       " 'hv201_23',\n",
       " 'hv201_24',\n",
       " 'hv201_25',\n",
       " 'hv201_31',\n",
       " 'hv201_32',\n",
       " 'hv201_33',\n",
       " 'hv201_34',\n",
       " 'hv201_35',\n",
       " 'hv201_36',\n",
       " 'hv201_41',\n",
       " 'hv201_42',\n",
       " 'hv201_43',\n",
       " 'hv201_44',\n",
       " 'hv201_45',\n",
       " 'hv201_46',\n",
       " 'hv201_51',\n",
       " 'hv201_61',\n",
       " 'hv201_62',\n",
       " 'hv201_63',\n",
       " 'hv201_71',\n",
       " 'hv204',\n",
       " 'hv205_11',\n",
       " 'hv205_12',\n",
       " 'hv205_13',\n",
       " 'hv205_14',\n",
       " 'hv205_15',\n",
       " 'hv205_16',\n",
       " 'hv205_17',\n",
       " 'hv205_18',\n",
       " 'hv205_19',\n",
       " 'hv205_21',\n",
       " 'hv205_22',\n",
       " 'hv205_23',\n",
       " 'hv205_24',\n",
       " 'hv205_25',\n",
       " 'hv205_26',\n",
       " 'hv205_27',\n",
       " 'hv205_28',\n",
       " 'hv205_29',\n",
       " 'hv205_31',\n",
       " 'hv205_41',\n",
       " 'hv205_42',\n",
       " 'hv205_43',\n",
       " 'hv216',\n",
       " 'hv225',\n",
       " 'hv271',\n",
       " 'v312_0',\n",
       " 'v312_1',\n",
       " 'v312_10',\n",
       " 'v312_11',\n",
       " 'v312_13',\n",
       " 'v312_14',\n",
       " 'v312_16',\n",
       " 'v312_17',\n",
       " 'v312_18',\n",
       " 'v312_2',\n",
       " 'v312_3',\n",
       " 'v312_5',\n",
       " 'v312_6',\n",
       " 'v312_8',\n",
       " 'v312_9']"
      ]
     },
     "execution_count": 12,
     "metadata": {},
     "output_type": "execute_result"
    }
   ],
   "source": [
    "predict_target"
   ]
  },
  {
   "cell_type": "code",
   "execution_count": 13,
   "id": "fa525555",
   "metadata": {},
   "outputs": [
    {
     "data": {
      "text/plain": [
       "99"
      ]
     },
     "execution_count": 13,
     "metadata": {},
     "output_type": "execute_result"
    }
   ],
   "source": [
    "len(predict_target)"
   ]
  },
  {
   "cell_type": "code",
   "execution_count": 14,
   "id": "d77ef6d2",
   "metadata": {},
   "outputs": [
    {
     "data": {
      "text/plain": [
       "(24214, 159)"
      ]
     },
     "execution_count": 14,
     "metadata": {},
     "output_type": "execute_result"
    }
   ],
   "source": [
    "df.shape"
   ]
  },
  {
   "cell_type": "code",
   "execution_count": 15,
   "id": "19ffe166",
   "metadata": {},
   "outputs": [
    {
     "data": {
      "text/plain": [
       "1.0"
      ]
     },
     "execution_count": 15,
     "metadata": {},
     "output_type": "execute_result"
    }
   ],
   "source": [
    "df_test[\"hv205_16\"].max()"
   ]
  },
  {
   "cell_type": "code",
   "execution_count": 17,
   "id": "f54422b0",
   "metadata": {},
   "outputs": [],
   "source": [
    "from sklearn.linear_model import LinearRegression\n",
    "from sklearn.model_selection import train_test_split\n",
    "from sklearn.metrics import r2_score, mean_absolute_error\n",
    "\n",
    "df_use = df.dropna()\n",
    "y = df_use[\"deprived_sev\"]\n",
    "x = df_use[predict_target]\n",
    "\n",
    "# Split into train and test sets\n",
    "x_train, x_test, y_train, y_test = train_test_split(x, y, test_size=0.2, random_state=42)"
   ]
  },
  {
   "cell_type": "code",
   "execution_count": null,
   "id": "8d81cec3-df82-4edd-8697-639320a5edeb",
   "metadata": {},
   "outputs": [],
   "source": []
  },
  {
   "cell_type": "code",
   "execution_count": 35,
   "id": "da04864e-e6ab-4e31-95f9-7b197b2aa2df",
   "metadata": {},
   "outputs": [
    {
     "name": "stdout",
     "output_type": "stream",
     "text": [
      "R² score: 0.744792550943638\n",
      "MAE: 0.11126419691613475\n"
     ]
    }
   ],
   "source": [
    "# Fit linear regression model\n",
    "model = LinearRegression()\n",
    "model.fit(x_train, y_train)\n",
    "\n",
    "# Predict and evaluate\n",
    "y_pred = model.predict(x_test)\n",
    "\n",
    "print(\"R² score:\", r2_score(y_test, y_pred))\n",
    "print(\"MAE:\", mean_absolute_error(y_test, y_pred))"
   ]
  },
  {
   "cell_type": "code",
   "execution_count": 36,
   "id": "0e5e1413-257e-47be-a2af-f670d3f054e2",
   "metadata": {},
   "outputs": [
    {
     "name": "stdout",
     "output_type": "stream",
     "text": [
      "Decision Tree R²: 0.6327597726021801\n",
      "Decision Tree MAE: 0.12243010810869988\n"
     ]
    }
   ],
   "source": [
    "from sklearn.tree import DecisionTreeRegressor\n",
    "from sklearn.model_selection import train_test_split\n",
    "from sklearn.metrics import r2_score, mean_squared_error\n",
    "\n",
    "model = DecisionTreeRegressor(random_state=42)\n",
    "model.fit(x_train, y_train)\n",
    "y_pred = model.predict(x_test)\n",
    "\n",
    "print(\"Decision Tree R²:\", r2_score(y_test, y_pred))\n",
    "print(\"Decision Tree MAE:\", mean_absolute_error(y_test, y_pred))"
   ]
  },
  {
   "cell_type": "code",
   "execution_count": 37,
   "id": "78428f49-1ec1-4061-acff-4e727ab275cf",
   "metadata": {},
   "outputs": [
    {
     "name": "stdout",
     "output_type": "stream",
     "text": [
      "Random Forest R²: 0.8229632196021698\n",
      "Random Forest MAE: 0.08659992708204997\n"
     ]
    }
   ],
   "source": [
    "from sklearn.ensemble import RandomForestRegressor\n",
    "\n",
    "model = RandomForestRegressor(n_estimators=100, random_state=42)\n",
    "model.fit(x_train, y_train)\n",
    "y_pred = model.predict(x_test)\n",
    "\n",
    "print(\"Random Forest R²:\", r2_score(y_test, y_pred))\n",
    "print(\"Random Forest MAE:\", mean_absolute_error(y_test, y_pred))"
   ]
  },
  {
   "cell_type": "code",
   "execution_count": 38,
   "id": "b86d008f-519e-4baa-b717-cd6766bec01a",
   "metadata": {},
   "outputs": [
    {
     "name": "stdout",
     "output_type": "stream",
     "text": [
      "SVR R²: 0.8085105881438697\n",
      "SVR MAE: 0.09028752850495984\n"
     ]
    }
   ],
   "source": [
    "from sklearn.svm import SVR\n",
    "from sklearn.preprocessing import StandardScaler\n",
    "from sklearn.pipeline import make_pipeline\n",
    "\n",
    "# SVR needs feature scaling\n",
    "model = make_pipeline(StandardScaler(), SVR())\n",
    "model.fit(x_train, y_train)\n",
    "y_pred = model.predict(x_test)\n",
    "\n",
    "print(\"SVR R²:\", r2_score(y_test, y_pred))\n",
    "print(\"SVR MAE:\", mean_absolute_error(y_test, y_pred))"
   ]
  },
  {
   "cell_type": "code",
   "execution_count": 39,
   "id": "3d11f2af-a0d8-4e06-9c08-59598f96ebdc",
   "metadata": {},
   "outputs": [
    {
     "name": "stdout",
     "output_type": "stream",
     "text": [
      "Gradient Boosting R²: 0.807753735101694\n",
      "Gradient Boosting MAE: 0.01582971942908951\n"
     ]
    }
   ],
   "source": [
    "from sklearn.ensemble import GradientBoostingRegressor\n",
    "\n",
    "model = GradientBoostingRegressor(random_state=42)\n",
    "model.fit(x_train, y_train)\n",
    "y_pred = model.predict(x_test)\n",
    "\n",
    "print(\"Gradient Boosting R²:\", r2_score(y_test, y_pred))\n",
    "print(\"Gradient Boosting MAE:\", mean_squared_error(y_test, y_pred))"
   ]
  },
  {
   "cell_type": "code",
   "execution_count": 19,
   "id": "f9e80194-7741-4012-823d-1f58d2918e40",
   "metadata": {},
   "outputs": [
    {
     "name": "stdout",
     "output_type": "stream",
     "text": [
      "Best alpha: 2.06913808111479\n",
      "Ridge Regression (best alpha) R²: 0.7500362564404424\n",
      "Ridge Regression (best alpha) MAE: 0.11035389771039485\n"
     ]
    }
   ],
   "source": [
    "import numpy as np\n",
    "from sklearn.linear_model import Ridge\n",
    "from sklearn.model_selection import GridSearchCV\n",
    "from sklearn.metrics import r2_score, mean_absolute_error\n",
    "\n",
    "# Define the Ridge model\n",
    "ridge_model = Ridge(random_state=42)\n",
    "\n",
    "# Define your alpha range\n",
    "alphas = np.logspace(-6, 6, 20)\n",
    "\n",
    "# Define the parameter grid\n",
    "param_grid = {'alpha': alphas}\n",
    "\n",
    "# Set up GridSearchCV\n",
    "grid_search = GridSearchCV(estimator=ridge_model, param_grid=param_grid, cv=5, scoring='r2')\n",
    "\n",
    "# Fit the model to the training data\n",
    "grid_search.fit(x_train, y_train)\n",
    "\n",
    "# Print the best alpha\n",
    "print(\"Best alpha:\", grid_search.best_params_['alpha'])\n",
    "\n",
    "# Predict using the best model\n",
    "y_pred_ridge = grid_search.best_estimator_.predict(x_test)\n",
    "\n",
    "# Evaluate the model\n",
    "print(\"Ridge Regression (best alpha) R²:\", r2_score(y_test, y_pred_ridge))\n",
    "print(\"Ridge Regression (best alpha) MAE:\", mean_absolute_error(y_test, y_pred_ridge))\n"
   ]
  },
  {
   "cell_type": "code",
   "execution_count": 35,
   "id": "c77e8248-f44d-4572-8012-28d436c7393f",
   "metadata": {},
   "outputs": [
    {
     "name": "stdout",
     "output_type": "stream",
     "text": [
      "Epoch [10/200], Loss: 0.1731\n",
      "Epoch [20/200], Loss: 0.0683\n",
      "Epoch [30/200], Loss: 0.0344\n",
      "Epoch [40/200], Loss: 0.0274\n",
      "Epoch [50/200], Loss: 0.0238\n",
      "Epoch [60/200], Loss: 0.0216\n",
      "Epoch [70/200], Loss: 0.0193\n",
      "Epoch [80/200], Loss: 0.0175\n",
      "Epoch [90/200], Loss: 0.0159\n",
      "Epoch [100/200], Loss: 0.0148\n",
      "Epoch [110/200], Loss: 0.0141\n",
      "Epoch [120/200], Loss: 0.0136\n",
      "Epoch [130/200], Loss: 0.0131\n",
      "Epoch [140/200], Loss: 0.0126\n",
      "Epoch [150/200], Loss: 0.0122\n",
      "Epoch [160/200], Loss: 0.0118\n",
      "Epoch [170/200], Loss: 0.0115\n",
      "Epoch [180/200], Loss: 0.0112\n",
      "Epoch [190/200], Loss: 0.0108\n",
      "Epoch [200/200], Loss: 0.0106\n",
      "\n",
      "Test MAE: 0.0824\n"
     ]
    }
   ],
   "source": [
    "import torch\n",
    "import torch.nn as nn\n",
    "import torch.optim as optim\n",
    "from sklearn.metrics import mean_absolute_error\n",
    "import numpy as np\n",
    "\n",
    "# # Convert to PyTorch tensors\n",
    "# x_train = torch.tensor(x_train.values, dtype=torch.float32)\n",
    "# y_train = torch.tensor(y_train.values.reshape(-1, 1), dtype=torch.float32)\n",
    "\n",
    "# x_test = torch.tensor(x_test.values, dtype=torch.float32)\n",
    "# y_test = torch.tensor(y_test.values.reshape(-1, 1), dtype=torch.float32)\n",
    "\n",
    "\n",
    "class DeepNN99to1(nn.Module):\n",
    "    def __init__(self):\n",
    "        super(DeepNN99to1, self).__init__()\n",
    "        self.fc1 = nn.Linear(99, 512)    # 99 → 512\n",
    "        self.fc2 = nn.Linear(512, 256)   # 512 → 256\n",
    "        self.fc3 = nn.Linear(256, 128)   # 256 → 128\n",
    "        self.fc4 = nn.Linear(128, 1)     # 64 → 1\n",
    "\n",
    "    def forward(self, x):\n",
    "        x = torch.relu(self.fc1(x))\n",
    "        x = torch.relu(self.fc2(x))\n",
    "        x = torch.relu(self.fc3(x))\n",
    "        x = self.fc4(x)\n",
    "        return x\n",
    "\n",
    "# Create model\n",
    "model = DeepNN99to1()\n",
    "\n",
    "# Rest of training code remains the same\n",
    "optimizer = optim.Adam(model.parameters(), lr=0.001)\n",
    "criterion = nn.MSELoss()\n",
    "\n",
    "num_epochs = 200\n",
    "\n",
    "for epoch in range(num_epochs):\n",
    "    model.train()\n",
    "    optimizer.zero_grad()\n",
    "    \n",
    "    outputs = model(x_train)\n",
    "    loss = criterion(outputs, y_train)\n",
    "    \n",
    "    loss.backward()\n",
    "    optimizer.step()\n",
    "    \n",
    "    if (epoch+1) % 10 == 0:\n",
    "        print(f\"Epoch [{epoch+1}/{num_epochs}], Loss: {loss.item():.4f}\")\n",
    "\n",
    "# Evaluation\n",
    "model.eval()\n",
    "with torch.no_grad():\n",
    "    y_pred = model(x_test)\n",
    "    y_test_np = y_test.numpy()\n",
    "    y_pred_np = y_pred.numpy()\n",
    "    mae = mean_absolute_error(y_test_np, y_pred_np)\n",
    "    print(f\"\\nTest MAE: {mae:.4f}\")\n",
    "\n"
   ]
  },
  {
   "cell_type": "code",
   "execution_count": null,
   "id": "a91107b3-8dca-4d83-b6bd-f17628149491",
   "metadata": {},
   "outputs": [],
   "source": []
  }
 ],
 "metadata": {
  "kernelspec": {
   "display_name": "Python 3 (ipykernel)",
   "language": "python",
   "name": "python3"
  },
  "language_info": {
   "codemirror_mode": {
    "name": "ipython",
    "version": 3
   },
   "file_extension": ".py",
   "mimetype": "text/x-python",
   "name": "python",
   "nbconvert_exporter": "python",
   "pygments_lexer": "ipython3",
   "version": "3.8.20"
  }
 },
 "nbformat": 4,
 "nbformat_minor": 5
}
