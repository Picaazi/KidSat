{
 "cells": [
  {
   "cell_type": "code",
   "execution_count": 1,
   "metadata": {},
   "outputs": [],
   "source": [
    "import pandas as pd\n",
    "df_feat = pd.read_csv('spa_pred.csv')[['Latitude','Longitude','target']]\n",
    "# df_feat = pd.read_csv('real_pov.csv')[['LATNUM','LONGNUM','deprived_sev']]\n",
    "# df_feat.rename(columns={'LATNUM': 'Latitude', 'LONGNUM': 'Longitude', 'deprived_sev': 'target'}, inplace=True)"
   ]
  },
  {
   "cell_type": "code",
   "execution_count": 2,
   "metadata": {},
   "outputs": [
    {
     "data": {
      "image/png": "[encoded data removed]",
      "text/plain": [
       "<Figure size 640x480 with 1 Axes>"
      ]
     },
     "metadata": {},
     "output_type": "display_data"
    }
   ],
   "source": [
    "import numpy as np\n",
    "from pykrige.ok import OrdinaryKriging\n",
    "import matplotlib.pyplot as plt\n",
    "import os\n",
    "os.environ['USE_PYGEOS'] = '0'\n",
    "import geopandas as gpd\n",
    "g_df = gpd.GeoDataFrame(df_feat, crs=\"EPSG:4326\", geometry=gpd.points_from_xy(df_feat[\"Longitude\"], df_feat[\"Latitude\"]))\n",
    "\n",
    "g_df = g_df.to_crs(\"EPSG:3347\")\n",
    "g_df[\"Easting\"], g_df[\"Northing\"] = g_df.geometry.x, g_df.geometry.y\n",
    "resolution = 20000  # cell size in meters\n",
    "gridx = np.arange(g_df.bounds.minx.min(), g_df.bounds.maxx.max(), resolution)\n",
    "gridy = np.arange(g_df.bounds.miny.min(), g_df.bounds.maxy.max(), resolution)\n",
    "\n",
    "# Interpolate\n",
    "krig = OrdinaryKriging(x=g_df[\"Easting\"], y=g_df[\"Northing\"], z=g_df['target'], variogram_model=\"spherical\",\n",
    "    # drift_terms=['regional_linear']\n",
    "                        )\n",
    "z, ss = krig.execute(\"grid\", gridx, gridy)\n",
    "z= z.clip(0,1)\n",
    "plt.imshow(z);"
   ]
  },
  {
   "cell_type": "code",
   "execution_count": 3,
   "metadata": {},
   "outputs": [],
   "source": [
    "import itertools\n",
    "import numpy as np\n",
    "import pandas as pd\n",
    "from shapely.geometry import Polygon\n",
    "\n",
    "def pixel2poly(x, y, z, resolution):\n",
    "    \"\"\"\n",
    "    x: x coords of cell\n",
    "    y: y coords of cell\n",
    "    z: matrix of values for each (x,y)\n",
    "    resolution: spatial resolution of each cell\n",
    "    \"\"\"\n",
    "    polygons = []\n",
    "    values = []\n",
    "    half_res = resolution / 2\n",
    "    for i, j  in (itertools.product(range(len(x)), range(len(y)))):\n",
    "        minx, maxx = x[i] - half_res, x[i] + half_res\n",
    "        miny, maxy = y[j] - half_res, y[j] + half_res\n",
    "        polygons.append(Polygon([(minx, miny), (minx, maxy), (maxx, maxy), (maxx, miny)]))\n",
    "        if isinstance(z, (int, float)):\n",
    "            values.append(z)\n",
    "        else:\n",
    "            values.append(z[j, i])\n",
    "    return polygons, values"
   ]
  },
  {
   "cell_type": "code",
   "execution_count": 4,
   "metadata": {},
   "outputs": [],
   "source": [
    "mean = df_feat.target.mean()\n",
    "std = df_feat.target.std()"
   ]
  },
  {
   "cell_type": "code",
   "execution_count": 5,
   "metadata": {},
   "outputs": [],
   "source": [
    "target = 'deprived_sev'"
   ]
  },
  {
   "cell_type": "code",
   "execution_count": 6,
   "metadata": {},
   "outputs": [],
   "source": [
    "kenya_map_shape = 'gadm41_KEN_shp/gadm41_KEN_2.shp'\n",
    "gdf = gpd.read_file(kenya_map_shape)"
   ]
  },
  {
   "cell_type": "code",
   "execution_count": 7,
   "metadata": {},
   "outputs": [],
   "source": [
    "# gdf.to_file(\"gadm41_KEN_2_shp.geojson\", driver=\"GeoJSON\")"
   ]
  },
  {
   "cell_type": "code",
   "execution_count": 8,
   "metadata": {},
   "outputs": [],
   "source": [
    "def get_coords(row):\n",
    "    x_list = row.geometry.geoms[0].exterior.coords.xy[0]\n",
    "    y_list = row.geometry.geoms[0].exterior.coords.xy[1]\n",
    "\n",
    "    return (np.array(x_list),np.array(y_list))"
   ]
  },
  {
   "cell_type": "code",
   "execution_count": 9,
   "metadata": {},
   "outputs": [],
   "source": [
    "gdf_json = gpd.read_file(\"gadm41_KEN_2_shp.geojson\")"
   ]
  },
  {
   "cell_type": "code",
   "execution_count": 10,
   "metadata": {},
   "outputs": [],
   "source": [
    "import plotly.express as px\n",
    "from tqdm import tqdm\n",
    "import plotly.graph_objects as go\n",
    "polygons, values = pixel2poly(gridx, gridy, z, resolution)\n",
    "values_percent = [100*val for val in values]\n",
    "kenya_model = (gpd.GeoDataFrame({\"Severe Deprivation %\": values_percent}, geometry=polygons, crs=\"EPSG:3347\")\n",
    "                   .to_crs(\"EPSG:4326\")\n",
    "               )\n",
    "kenya_model = gpd.clip(kenya_model,gdf)\n",
    "fig = px.choropleth_mapbox(kenya_model, geojson=kenya_model.geometry, locations=kenya_model.index,\n",
    "                           color=\"Severe Deprivation %\", color_continuous_scale=\"Viridis\",\n",
    "                           range_color=[0,100],\n",
    "                           center={\"lat\": 0.0236, \"lon\": 37.9062}, zoom=5,\n",
    "                           mapbox_style=\"white-bg\")\n",
    "fig.update_layout(coloraxis_showscale=False)\n",
    "fig.update_traces(marker_line_width=0)\n",
    "\n",
    "\n",
    "fig.add_trace(go.Choroplethmapbox(\n",
    "    geojson=gdf.__geo_interface__,\n",
    "    locations=gdf.index,\n",
    "    z=gdf.index,  # This is just a placeholder, we're not actually coloring by this\n",
    "    colorscale=[[0, 'rgba(0,0,0,0)'], [1, 'rgba(0,0,0,0)']],  # Transparent fill\n",
    "    marker_line_color='black',\n",
    "    marker_line_width=0.5,\n",
    "    showscale=False,\n",
    "))\n",
    "fig.update_layout(margin=dict(l=0, r=0, t=30, b=10))\n",
    "fig.write_image(\"spatial_pred_2.pdf\")"
   ]
  },
  {
   "cell_type": "code",
   "execution_count": null,
   "metadata": {},
   "outputs": [],
   "source": []
  }
 ],
 "metadata": {
  "kernelspec": {
   "display_name": "Python 3 (ipykernel)",
   "language": "python",
   "name": "python3"
  },
  "language_info": {
   "codemirror_mode": {
    "name": "ipython",
    "version": 3
   },
   "file_extension": ".py",
   "mimetype": "text/x-python",
   "name": "python",
   "nbconvert_exporter": "python",
   "pygments_lexer": "ipython3",
   "version": "3.12.2"
  }
 },
 "nbformat": 4,
 "nbformat_minor": 4
}
